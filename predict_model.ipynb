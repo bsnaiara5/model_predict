{
  "nbformat": 4,
  "nbformat_minor": 0,
  "metadata": {
    "colab": {
      "provenance": []
    },
    "kernelspec": {
      "name": "python3",
      "display_name": "Python 3"
    },
    "language_info": {
      "name": "python"
    }
  },
  "cells": [
    {
      "cell_type": "code",
      "source": [
        "import tensorflow as tf\n",
        "from tensorflow.keras.preprocessing.text import Tokenizer\n",
        "from tensorflow.keras.preprocessing.sequence import pad_sequences\n",
        "from tensorflow.keras.models import load_model\n",
        "import numpy as np"
      ],
      "metadata": {
        "id": "0Z9IpdanQgIk"
      },
      "execution_count": 1,
      "outputs": []
    },
    {
      "cell_type": "code",
      "execution_count": 4,
      "metadata": {
        "id": "MJ_RFnH0AIFB"
      },
      "outputs": [],
      "source": [
        "# Função para pré-processamento e vetorização do texto\n",
        "def preprocess_text(text, tokenizer, max_sequence_length):\n",
        "    # Tokenização do texto\n",
        "    tokenized_text = tokenizer.texts_to_sequences([text])\n",
        "\n",
        "    # Padding para garantir que todas as sequências tenham o mesmo comprimento\n",
        "    padded_text = pad_sequences(tokenized_text, maxlen=max_sequence_length, padding='post')\n",
        "\n",
        "    # Retorne o texto pré-processado e vetorizado\n",
        "    return padded_text\n",
        "\n",
        "# Função para fazer previsões com o modelo\n",
        "def predict_class(model, text, tokenizer, max_sequence_length):\n",
        "    # Pré-processar e vetorizar o texto\n",
        "    processed_text = preprocess_text(text, tokenizer, max_sequence_length)\n",
        "\n",
        "    # Fazer previsões usando o modelo\n",
        "    predictions = model.predict(processed_text)\n",
        "\n",
        "    # Decodificar as previsões em rótulos de classe (se necessário)\n",
        "    # Por exemplo, você pode ter um dicionário que mapeia índices de previsão para rótulos de classe\n",
        "    predicted_class = np.argmax(predictions, axis=1)\n",
        "\n",
        "    # Retorne a classe prevista\n",
        "    return predicted_class\n"
      ]
    },
    {
      "cell_type": "code",
      "source": [
        "tokenizer = Tokenizer(num_words=5000)\n",
        "max_review_length = 50"
      ],
      "metadata": {
        "id": "0tfn0aApRNOu"
      },
      "execution_count": 8,
      "outputs": []
    },
    {
      "cell_type": "code",
      "source": [
        "# Carregar o modelo salvo\n",
        "loaded_model = load_model('/content/LSTM_Publicações_V1.h5')\n",
        "\n",
        "# Texto de exemplo para fazer previsões\n",
        "input_text = \"destarte julgo improcedentes pedidos formulado...\"\n",
        "\n",
        "# Fazer previsão com o texto de exemplo\n",
        "predicted_class = predict_class(loaded_model, input_text, tokenizer, max_review_length)\n",
        "\n",
        "# Exibir a classe prevista\n",
        "print(\"Classe prevista:\", predicted_class)"
      ],
      "metadata": {
        "colab": {
          "base_uri": "https://localhost:8080/"
        },
        "id": "PCH4t5fsQ0g1",
        "outputId": "8c8a8dfb-6f51-475d-c0df-8a3ce92888e4"
      },
      "execution_count": 9,
      "outputs": [
        {
          "output_type": "stream",
          "name": "stdout",
          "text": [
            "1/1 [==============================] - 0s 428ms/step\n",
            "Classe prevista: [0]\n"
          ]
        }
      ]
    },
    {
      "cell_type": "code",
      "source": [],
      "metadata": {
        "id": "0XRjl6TIQ0hv"
      },
      "execution_count": null,
      "outputs": []
    }
  ]
}